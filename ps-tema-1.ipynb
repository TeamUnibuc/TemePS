{
 "cells": [
  {
   "cell_type": "markdown",
   "metadata": {},
   "source": [
    "# Pachete necesare pentru folosirea acestui Notebook\n",
    "\n",
    "Vom folosi [numpy](https://numpy.org/), [matplotlib](https://matplotlib.org/), și [sounddevice](https://python-sounddevice.readthedocs.io/)."
   ]
  },
  {
   "cell_type": "code",
   "execution_count": 1,
   "metadata": {},
   "outputs": [],
   "source": [
    "import numpy as np\n",
    "import matplotlib.pyplot as plt\n",
    "import sounddevice as sd\n",
    "from typing import List, Tuple"
   ]
  },
  {
   "cell_type": "markdown",
   "metadata": {},
   "source": [
    "# Generarea unui semnal sinusoidal\n",
    "\n",
    "Întâi trebuie să definim parametrii sinusoidei continuue:\n",
    "\n",
    "* orizontul de timp ($t$)\n",
    "* frecvența semnalului original ($f_0$)\n",
    "* amplitudinea ($A$)\n",
    "* faza ($\\varphi$)"
   ]
  },
  {
   "cell_type": "code",
   "execution_count": 2,
   "metadata": {},
   "outputs": [],
   "source": [
    "time_of_view = 1     # s\n",
    "frequency = 2        # Hz\n",
    "amplitude = 1\n",
    "phase = 0"
   ]
  },
  {
   "cell_type": "markdown",
   "metadata": {},
   "source": [
    "Iar apoi parametrii de măsurare, sinusoida discretizată:\n",
    "* frecvența de eșantionare ($f_s$)\n",
    "* perioada de eșantionare ($t_s$)\n",
    "* numărul de eșantionare ($n$)"
   ]
  },
  {
   "cell_type": "code",
   "execution_count": 3,
   "metadata": {},
   "outputs": [],
   "source": [
    "sampling_rate = 12    # Hz\n",
    "sampling_period = 1./sampling_rate  # s\n",
    "n_samples = time_of_view/sampling_period"
   ]
  },
  {
   "cell_type": "markdown",
   "metadata": {},
   "source": [
    "Cu datele de mai sus putem genera orizontul de timp cu momentele de interes pentru semnalul continuu și cel discretizat ($t$, respectiv $nt_s$):"
   ]
  },
  {
   "cell_type": "code",
   "execution_count": 4,
   "metadata": {},
   "outputs": [],
   "source": [
    "atime = np.linspace (0, time_of_view, int(10e5 + 1)) # s.\n",
    "time = np.linspace (0, time_of_view, int(n_samples + 1))"
   ]
  },
  {
   "cell_type": "markdown",
   "metadata": {},
   "source": [
    "*Observație*: orizontul de timp continuu (analog) este de fapt un orizont de timp discret ($nt_s$) foarte dens ($n=10^5$ eșantione).\n",
    "\n",
    "Cu aceste date putem crea o funcție sinus ce generează sinusoidele parametrizate conform variabilelor de mai sus:"
   ]
  },
  {
   "cell_type": "code",
   "execution_count": 5,
   "metadata": {},
   "outputs": [],
   "source": [
    "def sine (amplitude, frequency, time, phase):\n",
    "    return amplitude * np.sin (2 * np.pi * frequency * time + phase)"
   ]
  },
  {
   "cell_type": "markdown",
   "metadata": {},
   "source": [
    "## Sinusoidă continuă\n",
    "Pentru a obține o sinusoidă \"continuă\" putem apela funcția ```sine```:"
   ]
  },
  {
   "cell_type": "code",
   "execution_count": 6,
   "metadata": {},
   "outputs": [
    {
     "data": {
      "text/plain": [
       "[<matplotlib.lines.Line2D at 0x7f7fef5e8ee0>]"
      ]
     },
     "execution_count": 6,
     "metadata": {},
     "output_type": "execute_result"
    },
    {
     "data": {
      "image/png": "[encoded data removed]",
      "text/plain": [
       "<Figure size 432x288 with 1 Axes>"
      ]
     },
     "metadata": {
      "needs_background": "light"
     },
     "output_type": "display_data"
    }
   ],
   "source": [
    "asignal = sine(amplitude, frequency, atime, phase)\n",
    "\n",
    "plt.grid(True)\n",
    "plt.plot (atime, asignal)"
   ]
  },
  {
   "cell_type": "markdown",
   "metadata": {},
   "source": [
    "## Sinusoidă discretizată\n",
    "Discretizarea se obține apelând aceiași funcție ```sine``` dar cu parametrii discreți și folosind ```stem``` pentru a obține cele $n$ eșantioane:"
   ]
  },
  {
   "cell_type": "code",
   "execution_count": 7,
   "metadata": {},
   "outputs": [
    {
     "data": {
      "text/plain": [
       "<StemContainer object of 3 artists>"
      ]
     },
     "execution_count": 7,
     "metadata": {},
     "output_type": "execute_result"
    },
    {
     "data": {
      "image/png": "[encoded data removed]",
      "text/plain": [
       "<Figure size 432x288 with 1 Axes>"
      ]
     },
     "metadata": {
      "needs_background": "light"
     },
     "output_type": "display_data"
    }
   ],
   "source": [
    "signal = sine(amplitude, frequency, time, phase)\n",
    "\n",
    "plt.grid(True)\n",
    "plt.stem (time, signal)"
   ]
  },
  {
   "cell_type": "markdown",
   "metadata": {},
   "source": [
    "# Producerea și audiția unui ton\n",
    "\n",
    "Pentru a produce o sinusoidă ce poate fi percepută de urechea umană trebuie să creștem frecvența și amplitudinea acesteia.\n",
    "\n",
    "În exemplul de mai jos generăm o sinusoidă de frecvență $f_0=440\\text{Hz}$ și amplitudine $10.000$ pe care o discretizăm cu frecvența de eșantionare $f_s=44.100\\text{Hz}$ pe un orizont de timp de $2\\text{s}$."
   ]
  },
  {
   "cell_type": "code",
   "execution_count": 8,
   "metadata": {},
   "outputs": [],
   "source": [
    "time_of_view = 2     # s\n",
    "frequency = 440      # Hz\n",
    "amplitude = 10000\n",
    "phase = 0\n",
    "\n",
    "sampling_rate = 44100\n",
    "sampling_period = 1./sampling_rate  # s\n",
    "n_samples = time_of_view/sampling_period\n",
    "time = np.linspace (0, time_of_view, int(n_samples + 1))\n",
    "\n",
    "tone = sine(amplitude, frequency, time, phase)"
   ]
  },
  {
   "cell_type": "markdown",
   "metadata": {},
   "source": [
    "Aceast ton îl vom discretiza cu o frecvență de eșantionare $f_s$ conform ```sampling_rate``` și îl vom transforma în formatul WAV prin conversia eșantioanelor la întregi pe 16-biți:"
   ]
  },
  {
   "cell_type": "code",
   "execution_count": 9,
   "metadata": {},
   "outputs": [],
   "source": [
    "sd.default.samplerate = sampling_rate\n",
    "wav_wave = np.array(tone, dtype=np.int16)\n",
    "sd.play(wav_wave, blocking=True)\n",
    "sd.stop()"
   ]
  },
  {
   "cell_type": "markdown",
   "metadata": {},
   "source": [
    "# Sarcini\n",
    "\n",
    "1. [8p] Scrieți tonurile pentru notele muzicale Do, Re, Mi, Fa, Sol, La, Si, Do.\n",
    "\n",
    "2. [8p] Compuneți un cântec simplu clasic (ex. Frère Jacques) într-un singur semnal.\n",
    "\n",
    "3. [4p] Citiți o partitură la intrare (folosind [LilyPond](https://lilypond.org/) sau formatul propriu) și produceți semnalul ce conține melodia la ieșire prin compunerea tonurilor asociate notelor automat."
   ]
  },
  {
   "cell_type": "code",
   "execution_count": 56,
   "metadata": {},
   "outputs": [],
   "source": [
    "note_frequency = {\n",
    "    \"\": 0,\n",
    "    \"do\": 261.63,\n",
    "    \"do#\": 277.18,\n",
    "    \"re\": 293.66,\n",
    "    \"re#\": 311.13,\n",
    "    \"mi\": 329.63,\n",
    "    \"fa\": 349.23,\n",
    "    \"fa#\": 369.99,\n",
    "    \"sol\": 392.00,\n",
    "    \"sol#\": 415.3,\n",
    "    \"la\": 440.00,\n",
    "    \"la#\": 466.16,\n",
    "    \"si\": 493.88,\n",
    "    \"doo\": 523.28,\n",
    "}\n",
    "\n",
    "SAMPLING_RATE = 44100\n",
    "SAMPLING_PERIOD = 1./SAMPLING_RATE\n",
    "\n",
    "def make_tone(frequency, duration=0.5, amplitude=10000) -> np.ndarray:\n",
    "    n_samples = duration/SAMPLING_PERIOD\n",
    "    time = np.linspace(0, duration, int(n_samples + 1))\n",
    "    tone = sine(amplitude, frequency, time, 0)\n",
    "    return tone\n",
    "\n",
    "def make_melody(melody: List[Tuple[str, int]], speed=0.25) -> np.ndarray:\n",
    "    tones = []\n",
    "    for note, tact in melody:\n",
    "        tone = make_tone(\n",
    "            note_frequency[note],\n",
    "            tact * speed\n",
    "        )\n",
    "        tones.append(tone)\n",
    "    return np.concatenate(tones)\n",
    "\n",
    "def play_sound(tone):\n",
    "    sd.default.samplerate = sampling_rate\n",
    "    wav_wave = np.array(tone, dtype=np.int16)\n",
    "    sd.play(wav_wave, blocking=True)\n",
    "    sd.stop()"
   ]
  },
  {
   "cell_type": "code",
   "execution_count": 59,
   "metadata": {},
   "outputs": [],
   "source": [
    "# Task 1\n",
    "m = make_melody(\n",
    "    [\n",
    "        (\"do\", 1),\n",
    "        (\"re\", 1),\n",
    "        (\"mi\", 1),\n",
    "        (\"fa\", 1),\n",
    "        (\"sol\", 1),\n",
    "        (\"la\", 1),\n",
    "        (\"si\", 1),\n",
    "        (\"doo\", 1),\n",
    "    ],\n",
    "    speed=1/2\n",
    ")\n",
    "\n",
    "play_sound(m)"
   ]
  },
  {
   "cell_type": "code",
   "execution_count": 12,
   "metadata": {},
   "outputs": [],
   "source": [
    "# Task 2\n",
    "# https://cdn3.virtualsheetmusic.com/images/first_pages/BIG/Miscellaneous/FrerePfFREEFirst_BIG.gif\n",
    "\n",
    "frere_jacques = make_melody(\n",
    "    [\n",
    "        (\"do\", 1),\n",
    "        (\"re\", 1),\n",
    "        (\"mi\", 1),\n",
    "        (\"do\", 1),\n",
    "        (\"do\", 1),\n",
    "        (\"re\", 1),\n",
    "        (\"mi\", 1),\n",
    "        (\"do\", 1),\n",
    "        (\"mi\", 1),\n",
    "        (\"fa\", 1),\n",
    "        (\"sol\", 2),\n",
    "        (\"mi\", 1),\n",
    "        (\"fa\", 1),\n",
    "        (\"sol\", 2),\n",
    "        (\"sol\", 1),\n",
    "        (\"fa\", 1),\n",
    "        (\"mi\", 1),\n",
    "        (\"do\", 1),\n",
    "        (\"sol\", 1),\n",
    "        (\"fa\", 1),\n",
    "        (\"mi\", 1),\n",
    "        (\"do\", 1),\n",
    "        (\"do\", 4),\n",
    "        (\"do\", 4),\n",
    "    ],\n",
    "    speed=92/60\n",
    ")\n",
    "\n",
    "play_sound(frere_jacques)"
   ]
  },
  {
   "cell_type": "markdown",
   "metadata": {},
   "source": [
    "# Task 3\n",
    "\n",
    "Definim notele in formatul standard, vizibil [aici](http://techlib.com/reference/musical_note_frequencies.htm).\n",
    "\n",
    "Pentru a calcula frecventele, ne bazam pe faputul ca pe scara logaritmica, diferenta intre doua note consecutive este de $\\sqrt[12]{2}$.\n",
    "Presupunem ca avem $5$ octave, cu $A$ din octava $1$ la frecventa de $55.0$ Hz.\n"
   ]
  },
  {
   "cell_type": "code",
   "execution_count": 14,
   "metadata": {},
   "outputs": [
    {
     "name": "stdout",
     "output_type": "stream",
     "text": [
      "311.126983722081\n"
     ]
    }
   ],
   "source": [
    "import math\n",
    "\n",
    "# List with the notes.\n",
    "notes = ['A', 'A#', 'B', 'C', 'C#', 'D', 'D#', 'E', 'E#', 'F', 'F#', 'G']\n",
    "\n",
    "# Note by frequency for the base octave.\n",
    "base_octave_frequency_by_note = dict()\n",
    "\n",
    "base_frq, base_multiplier = 55.0, math.pow(2, 1/12)\n",
    "\n",
    "for note in notes:\n",
    "    base_octave_frequency_by_note[note] = base_frq\n",
    "    base_frq *= base_multiplier\n",
    "\n",
    "\n",
    "def compute_note_frequency(note: str, octave: int):\n",
    "    \"\"\"\n",
    "    Returns the frquency of a note, given the octave (indexed from 1)\n",
    "    \"\"\"\n",
    "    return base_octave_frequency_by_note[note] * 2**(octave-1)\n",
    "\n",
    "print(compute_note_frequency('D#', 3))\n"
   ]
  },
  {
   "cell_type": "markdown",
   "metadata": {},
   "source": [
    "## Citire din Fisier\n",
    "\n",
    "Pentru a citi o partitura dintr-un fisier, facem urmatoarele conventii:\n",
    "\n",
    "Prima linie contine tempo-ul in BPM al unei patrimi.\n",
    "\n",
    "Fiecare linie contine o lista de note, urmata de indicele ei de durata.\n",
    "Un indice de $x$ inseamna ca notele vor avea o durata egala cu $\\frac{1}{2^x}$ dintr-o nota intreaga.\n",
    "\n",
    "E.g.:\n",
    "```\n",
    "90\n",
    "A1 C1 D#2 10 -- 3 note, 10 batai\n",
    "20           -- nicio nota (pauza) 20 de batai\n",
    "```\n"
   ]
  },
  {
   "cell_type": "code",
   "execution_count": 61,
   "metadata": {},
   "outputs": [],
   "source": [
    "def read_melody_from_file(filename: str) -> Tuple[int, List[Tuple[List[str], int]]]:\n",
    "    \"\"\"\n",
    "        Reads a melody from a file.\n",
    "        Returns:\n",
    "          * BPM of a FULL note\n",
    "          * List of each timestamp:\n",
    "            * List of the notes\n",
    "            * beats duration\n",
    "    \"\"\"\n",
    "    lines = open(filename, \"r\").readlines()\n",
    "    \n",
    "    lines = [l.strip() for l in lines]\n",
    "    lines = [l for l in lines if l != '' and l[0] != '#']\n",
    "    \n",
    "    bpm = int(lines[0]) * 4\n",
    "    notes = [(lin.split()[:-1], int(lin.split()[-1])) for lin in lines if lin != '']\n",
    "\n",
    "    return bpm, notes\n",
    "\n",
    "def make_tone(frequency, duration, amplitude=4000) -> np.ndarray:\n",
    "    \"\"\"\n",
    "      Makes a tone.\n",
    "      This function is taken from b)\n",
    "    \"\"\"\n",
    "    n_samples = duration/SAMPLING_PERIOD\n",
    "    time = np.linspace(0, duration, int(n_samples + 1))\n",
    "    tone = sine(amplitude, frequency, time, 0)\n",
    "    return tone\n",
    "\n",
    "def make_melody(bpm, melody: List[Tuple[List[str], int]]) -> np.ndarray:\n",
    "    \"\"\"\n",
    "        Creates a melody from a given bpm and melody as notes.\n",
    "    \"\"\"\n",
    "    tones = []\n",
    "    for notes, duration in melody:\n",
    "        duration_seconds = 60/bpm * 1/2**duration\n",
    "        n_samples = duration_seconds/SAMPLING_PERIOD\n",
    "        tone = np.linspace(0, 0, int(n_samples + 1))\n",
    "        \n",
    "        for note in notes:\n",
    "            frq_note = compute_note_frequency(note[:-1], int(note[-1]))\n",
    "            tone_note = make_tone(frq_note, duration_seconds)\n",
    "            tone += tone_note\n",
    "\n",
    "        tones.append(tone)\n",
    "    return np.concatenate(tones)"
   ]
  },
  {
   "cell_type": "code",
   "execution_count": 68,
   "metadata": {},
   "outputs": [],
   "source": [
    "melody = make_melody(*read_melody_from_file(\"tema-1-ex-3.txt\"))\n",
    "play_sound(melody)"
   ]
  },
  {
   "cell_type": "code",
   "execution_count": null,
   "metadata": {},
   "outputs": [],
   "source": []
  }
 ],
 "metadata": {
  "kernelspec": {
   "display_name": "Python 3",
   "language": "python",
   "name": "python3"
  },
  "language_info": {
   "codemirror_mode": {
    "name": "ipython",
    "version": 3
   },
   "file_extension": ".py",
   "mimetype": "text/x-python",
   "name": "python",
   "nbconvert_exporter": "python",
   "pygments_lexer": "ipython3",
   "version": "3.8.8"
  }
 },
 "nbformat": 4,
 "nbformat_minor": 4
}
